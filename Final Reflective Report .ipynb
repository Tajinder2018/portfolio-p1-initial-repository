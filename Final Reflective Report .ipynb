{
 "cells": [
  {
   "cell_type": "markdown",
   "id": "d8feb788",
   "metadata": {},
   "source": [
    "                                          Reflective Report \n",
    "  "
   ]
  },
  {
   "cell_type": "markdown",
   "id": "b46809c0",
   "metadata": {},
   "source": [
    "The process of solving problems, firstly, it’s important to accurately define the data problem which we need to solved and then we need to decide on an approach that can be applied on the data. After that it's time to collect data. The next step after collecting data and cleaning the data is data analysis. After data analysis step, it’s time to interpret the results. \n",
    "Jupyter Notebook is an open-source collaboration technology which was developed in 2014, which is used to run the codes and edit them. There are lots of data science tools that make the process of learning easier how to code, Jupyter Notebook is one of that tool. The notebooks allows us to work on all the stages of the data analysis on one page. It is used amongst educators and students, especially useful for working in cloud-based environment. The notebook is used to practice to write the code and how to fix a program when it's not working. The Jupyter notebook \n",
    "have the ability to collaborate on projects across a large number of users and tools, it also helps with data cleaning which is a time consuming task for most of us. After cleaning, organising, and analysing the data, Jupyter notebook is used for data visualisation and sharing of data. The Jupter notebook is mainly used in teaching environment within classrooms as for practicing data science, programming, data analysing and visualisation. As we can say Jupyter Notebook is an excellent tool for students to show their work on a from start to end, and identify and understand correct way of to write the code without making errors and knowing how to fix them if any errors are present.\n",
    "Before doing this unit, the only thing I was knowing was that data science is the combination of maths, statistics and some sort of programming. But after starting the unit, I got to know the depth of data science, I learn the fundamental techniques and tools of data science, such as the graphical display of data, predictive models, evaluation methodologies, regression, classification and clustering, etc. and learned how to use  industry-standard software tools to real-world data sets. In the starting it really hard to understand whats happening but slowly things started getting on the place and my understanding of the data science got bit stronger than the beginning of the unit. This data science unit helped me to understand the problem and apply method to the problem, and helped to present the results. We use algorithms and write code in Python. The first thing we do is to bring in data, the clean it to make sure it is correct and error free, and then we explore into the data deeply, exploring and writing code that provides us to find use the most useful information. And we can use that data to create models and visualisation and analysis if we need it for future findings. I am still finding it bit hard to understand few concepts and how to implement them on data, that's why I will explore data science more as I am finding it interesting now. I love when with a some code I am able to clean data and find whatever I need from a small code, i find it very exciting. In the future, I want to do more research on data science, One of my cousin is doing a bachelor degree in data science in USA, so I want to talk to him and know more about data science and this filed deeply as I love solving problems by processing, analysing and understanding data. \n",
    "It was really hard to pick a dataset for my Portfolio 4, it took me almost 3 to 4 days to decide what dataset I want to work on, because I was finding it really hard to decide on what dataset I should work, I was so confused while picking a nice dataset that even at night time I was just dreaming of that. I was extremely stressed, I even asked my 4 year old son to help me with a topic,  I told him I want to write a story, the language he understands, he said mummy write a story on racing cars, I even tried to look at the racing cars data but no luck. After that I start exploring the problems around my surroundings and all of the sudden I thought lets explore and work on Diabetes dataset as my mom have diabetes and we are always concerned about her health issues. \n",
    "Diabetes is a big problem in the health sector, so I worked on it in this portfolio 4, I have tried to find the relationship between Diabetes and morality rate cause due to this. And I have looked at the dataset to predict diabetes in patients based on their medical history and demographic information. \n",
    "While it might seem simple, but it's really not, we need to be explicitly learn how to document the progress and learning. In my winter break I will explore more about data science in my free time and gain more knowledge about it. "
   ]
  }
 ],
 "metadata": {
  "kernelspec": {
   "display_name": "Python 3 (ipykernel)",
   "language": "python",
   "name": "python3"
  },
  "language_info": {
   "codemirror_mode": {
    "name": "ipython",
    "version": 3
   },
   "file_extension": ".py",
   "mimetype": "text/x-python",
   "name": "python",
   "nbconvert_exporter": "python",
   "pygments_lexer": "ipython3",
   "version": "3.9.13"
  }
 },
 "nbformat": 4,
 "nbformat_minor": 5
}
