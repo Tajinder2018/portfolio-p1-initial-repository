{
 "cells": [
  {
   "cell_type": "code",
   "execution_count": null,
   "id": "91788af6",
   "metadata": {},
   "outputs": [],
   "source": [
    "Portfolio 4\n"
   ]
  },
  {
   "cell_type": "code",
   "execution_count": null,
   "id": "05dffa5e",
   "metadata": {},
   "outputs": [],
   "source": [
    "Th dataset is originally from the National Institute of Diabetes and Digestive and Kidney Diseases. \n",
    "The objective is to predict based on diagnostic measurements whether a patient has diabetes.\n",
    "Several constraints were placed on the selection of these instances from a larger database. \n",
    "In particular, all patients here are females at least 21 years old of Pima Indian heritage.\n"
   ]
  }
 ],
 "metadata": {
  "kernelspec": {
   "display_name": "Python 3 (ipykernel)",
   "language": "python",
   "name": "python3"
  },
  "language_info": {
   "codemirror_mode": {
    "name": "ipython",
    "version": 3
   },
   "file_extension": ".py",
   "mimetype": "text/x-python",
   "name": "python",
   "nbconvert_exporter": "python",
   "pygments_lexer": "ipython3",
   "version": "3.9.13"
  }
 },
 "nbformat": 4,
 "nbformat_minor": 5
}
